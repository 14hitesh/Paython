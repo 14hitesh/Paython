{
 "cells": [
  {
   "cell_type": "markdown",
   "id": "6ad08d83",
   "metadata": {},
   "source": [
    "## Q.1) Write a program to print yourself introduction."
   ]
  },
  {
   "cell_type": "code",
   "execution_count": null,
   "id": "45356d0e",
   "metadata": {},
   "outputs": [],
   "source": [
    "Name= input(\"Enter your Name: \")\n",
    "DOB = input(\"Enter your DOB: \")\n",
    "Address = input(\"Enter your address: \")\n",
    "Education = input(\"Enter Your Education:\")\n",
    "Hobbies = input(\"Enter your hobbies:\")"
   ]
  },
  {
   "cell_type": "markdown",
   "id": "256aa10a",
   "metadata": {},
   "source": [
    "###  Q.2) Write a program to perform the following operations: Addition, Subtraction, Multiplication, Division, Modulus, Exponent."
   ]
  },
  {
   "cell_type": "code",
   "execution_count": 1,
   "id": "5fa63c35",
   "metadata": {},
   "outputs": [
    {
     "name": "stdout",
     "output_type": "stream",
     "text": [
      "Enter the number :120\n",
      "Enter the number :23\n",
      "Addition= 143\n"
     ]
    }
   ],
   "source": [
    "## Addition\n",
    "a = int(input('Enter the number :'))\n",
    "b = int(input('Enter the number :'))\n",
    "\n",
    "add = a+b\n",
    "\n",
    "print('Addition=',add)"
   ]
  },
  {
   "cell_type": "code",
   "execution_count": 2,
   "id": "2b827f30",
   "metadata": {},
   "outputs": [
    {
     "name": "stdout",
     "output_type": "stream",
     "text": [
      "Enter the number :12\n",
      "Enter the number :8\n",
      "Subtraction= 4\n"
     ]
    }
   ],
   "source": [
    "## Subtraction\n",
    "a=int(input('Enter the number :'))\n",
    "b=int(input('Enter the number :'))\n",
    "\n",
    "sub = a-b\n",
    "\n",
    "print('Subtraction=',sub)"
   ]
  },
  {
   "cell_type": "code",
   "execution_count": 3,
   "id": "bf795b17",
   "metadata": {},
   "outputs": [
    {
     "name": "stdout",
     "output_type": "stream",
     "text": [
      "Enter the number :10\n",
      "Enter the number :12\n",
      "Multiplication= 120\n"
     ]
    }
   ],
   "source": [
    "## Multiplication\n",
    "a=int(input('Enter the number :'))\n",
    "b=int(input('Enter the number :'))\n",
    "\n",
    "mul = a*b\n",
    "\n",
    "print('Multiplication=',mul)"
   ]
  },
  {
   "cell_type": "code",
   "execution_count": 4,
   "id": "1d25798d",
   "metadata": {},
   "outputs": [
    {
     "name": "stdout",
     "output_type": "stream",
     "text": [
      "Enter the number :12\n",
      "Enter the number :6\n",
      "Division= 2.0\n"
     ]
    }
   ],
   "source": [
    "## Division\n",
    "a=int(input('Enter the number :'))\n",
    "b=int(input('Enter the number :'))\n",
    "\n",
    "div = a/b\n",
    "\n",
    "print('Division=',div)"
   ]
  },
  {
   "cell_type": "code",
   "execution_count": 6,
   "id": "c76460ef",
   "metadata": {},
   "outputs": [
    {
     "name": "stdout",
     "output_type": "stream",
     "text": [
      "Enter the number :1233\n",
      "Enter the number :6\n",
      "Modulus= 3\n"
     ]
    }
   ],
   "source": [
    "## Modulus\n",
    "a=int(input('Enter the number :'))\n",
    "b=int(input('Enter the number :'))\n",
    "\n",
    "mod = a%b\n",
    "\n",
    "print('Modulus=',mod)"
   ]
  },
  {
   "cell_type": "code",
   "execution_count": 7,
   "id": "f966c340",
   "metadata": {},
   "outputs": [
    {
     "name": "stdout",
     "output_type": "stream",
     "text": [
      "Enter the number :23\n",
      "Enter the number :5\n",
      "Exponent= 6436343\n"
     ]
    }
   ],
   "source": [
    "## Exponent\n",
    "a=int(input('Enter the number :'))\n",
    "b=int(input('Enter the number :'))\n",
    "\n",
    "exp = a**b\n",
    "\n",
    "print('Exponent=',exp)"
   ]
  },
  {
   "cell_type": "markdown",
   "id": "ab02808f",
   "metadata": {},
   "source": [
    "#### Q.3 Write a program to swap two numbers."
   ]
  },
  {
   "cell_type": "code",
   "execution_count": 9,
   "id": "0f61f915",
   "metadata": {},
   "outputs": [
    {
     "name": "stdout",
     "output_type": "stream",
     "text": [
      "Enter num1:10\n",
      "Enter num2:12\n",
      "The num1 value before swap: 10\n",
      "The num2 value befor swap: 12\n",
      "The num1 value after swap: 12\n",
      "The num2 value after swap: 10\n"
     ]
    }
   ],
   "source": [
    "num1=int(input(\"Enter num1:\"))\n",
    "num2=int(input(\"Enter num2:\"))\n",
    "\n",
    "print(\"The num1 value before swap:\",num1)\n",
    "print(\"The num2 value befor swap:\",num2)\n",
    "\n",
    "temp=num1\n",
    "num1=num2\n",
    "num2=temp\n",
    "print(\"The num1 value after swap:\",num1)\n",
    "print(\"The num2 value after swap:\",num2)"
   ]
  },
  {
   "cell_type": "code",
   "execution_count": 8,
   "id": "8ac2b47d",
   "metadata": {},
   "outputs": [
    {
     "name": "stdout",
     "output_type": "stream",
     "text": [
      "The value after swaping: {} 10\n",
      "The value after swaping: {} 12\n"
     ]
    }
   ],
   "source": [
    "x= 12\n",
    "y = 10\n",
    "\n",
    "temp=x\n",
    "x=y\n",
    "y=temp\n",
    "\n",
    "print(\"The value after swaping: {}\" ,format(x))\n",
    "print(\"The value after swaping: {}\" ,format(y))"
   ]
  },
  {
   "cell_type": "markdown",
   "id": "9f2357a0",
   "metadata": {},
   "source": [
    "### Q.4) Write a program to swap two numbers without using third variable."
   ]
  },
  {
   "cell_type": "code",
   "execution_count": 5,
   "id": "b2be2b91",
   "metadata": {},
   "outputs": [
    {
     "name": "stdout",
     "output_type": "stream",
     "text": [
      "Enter x value34\n",
      "Enter y value55\n",
      "The x value before swap 34\n",
      "The y value before swap 55\n",
      "The x value after swap 55\n",
      "The y value after swap 34\n"
     ]
    }
   ],
   "source": [
    "x=int(input(\"Enter x value\"))\n",
    "y=int(input(\"Enter y value\"))\n",
    "\n",
    "print(\"The x value before swap\",x)\n",
    "print(\"The y value before swap\", y)\n",
    "\n",
    "x=x+y\n",
    "y=x-y\n",
    "x=x-y\n",
    "\n",
    "print(\"The x value after swap\",x)\n",
    "print(\"The y value after swap\",y)"
   ]
  },
  {
   "cell_type": "markdown",
   "id": "ac4dcfc4",
   "metadata": {},
   "source": [
    "## Q.5 Write a program to compute simple interest."
   ]
  },
  {
   "cell_type": "code",
   "execution_count": 11,
   "id": "14cedfd6",
   "metadata": {},
   "outputs": [],
   "source": [
    "x=10000\n",
    "y=3\n",
    "z=1\n",
    "SI = (x*y*z)/100"
   ]
  },
  {
   "cell_type": "code",
   "execution_count": 13,
   "id": "6a3d929d",
   "metadata": {},
   "outputs": [
    {
     "name": "stdout",
     "output_type": "stream",
     "text": [
      "Simple interst is: 300.0\n"
     ]
    }
   ],
   "source": [
    "print(\"Simple interst is:\",(SI))"
   ]
  },
  {
   "cell_type": "markdown",
   "id": "524e16c2",
   "metadata": {},
   "source": [
    "#### Q.6 Write a program to find average of five numbers by user input."
   ]
  },
  {
   "cell_type": "code",
   "execution_count": 17,
   "id": "bbbb3ce6",
   "metadata": {},
   "outputs": [],
   "source": [
    "a=2\n",
    "b=6\n",
    "c=8\n",
    "d=10\n",
    "e=5\n",
    "avg=(a+b+c+d+e)/5"
   ]
  },
  {
   "cell_type": "code",
   "execution_count": 18,
   "id": "4da8e36b",
   "metadata": {},
   "outputs": [
    {
     "name": "stdout",
     "output_type": "stream",
     "text": [
      "The average of five numbers is: 6.2\n"
     ]
    }
   ],
   "source": [
    "print(\"The average of five numbers is:\",(avg))"
   ]
  },
  {
   "cell_type": "markdown",
   "id": "52203f2a",
   "metadata": {},
   "source": [
    "#### Q.7) Write  a  program  to  calculate  the  discriminant  of  a quadratic equation."
   ]
  },
  {
   "cell_type": "code",
   "execution_count": 6,
   "id": "4c68907a",
   "metadata": {},
   "outputs": [],
   "source": [
    "h = 20\n",
    "f = 30\n",
    "p = 60\n",
    "## formula (h*f)-(h*f*p)\n",
    "disc_value=(h*f)-(h*f*p)"
   ]
  },
  {
   "cell_type": "code",
   "execution_count": 8,
   "id": "7a75c0f7",
   "metadata": {},
   "outputs": [
    {
     "name": "stdout",
     "output_type": "stream",
     "text": [
      "discriminant  of  a quadratic equation is -35400\n"
     ]
    }
   ],
   "source": [
    "print('discriminant  of  a quadratic equation is',disc_value)"
   ]
  },
  {
   "cell_type": "markdown",
   "id": "a7ec8731",
   "metadata": {},
   "source": [
    "#### Q.8) Write a program to calculate the areas of the following shapes:Rectangle, Square, Triangle, Circle"
   ]
  },
  {
   "cell_type": "code",
   "execution_count": 10,
   "id": "757633bd",
   "metadata": {},
   "outputs": [],
   "source": [
    "## Rectangle  ( Foemula = (area = width*height))"
   ]
  },
  {
   "cell_type": "code",
   "execution_count": 1,
   "id": "c255d1ce",
   "metadata": {},
   "outputs": [
    {
     "name": "stdout",
     "output_type": "stream",
     "text": [
      "Enter the width10\n",
      "Enter the height14\n",
      "Rectangle shape value is: 140\n"
     ]
    }
   ],
   "source": [
    "w = int(input(\"Enter the width\"))\n",
    "h = int(input(\"Enter the height\"))\n",
    "area = (w*h)\n",
    "print(\"Rectangle shape value is:\", area)"
   ]
  },
  {
   "cell_type": "code",
   "execution_count": null,
   "id": "a8bb81fc",
   "metadata": {},
   "outputs": [],
   "source": [
    "## Square  ( Foemula = (square_of_number_1 = number * number))"
   ]
  },
  {
   "cell_type": "code",
   "execution_count": 4,
   "id": "2986dc5c",
   "metadata": {},
   "outputs": [
    {
     "name": "stdout",
     "output_type": "stream",
     "text": [
      "Enter the value of num1: 4\n",
      "Enter the value of num2: 2\n",
      "square shape value is: 8\n"
     ]
    }
   ],
   "source": [
    "num1 = int(input(\"Enter the value of num1: \"))\n",
    "num2 = int(input(\"Enter the value of num2: \"))\n",
    "square_of_number_1 = (num1 * num2)\n",
    "print(\"square shape value is:\",square_of_number_1)"
   ]
  },
  {
   "cell_type": "code",
   "execution_count": null,
   "id": "3ac0394f",
   "metadata": {},
   "outputs": [],
   "source": [
    "## Triangle (formula (area = b*h/2))  base, height"
   ]
  },
  {
   "cell_type": "code",
   "execution_count": 5,
   "id": "59f99e1b",
   "metadata": {
    "scrolled": true
   },
   "outputs": [
    {
     "name": "stdout",
     "output_type": "stream",
     "text": [
      "Input the base : 4\n",
      "Input the height : 5\n",
      "print area is  10.0\n"
     ]
    }
   ],
   "source": [
    "b = int(input(\"Input the base : \"))\n",
    "h = int(input(\"Input the height : \"))\n",
    "\n",
    "area = b*h/2\n",
    "\n",
    "print(\"print area is \", area)"
   ]
  },
  {
   "cell_type": "code",
   "execution_count": null,
   "id": "f194188c",
   "metadata": {},
   "outputs": [],
   "source": [
    "## Circle (formula (Area of Circle = π * R * R))  base, height"
   ]
  },
  {
   "cell_type": "code",
   "execution_count": 11,
   "id": "8c452e78",
   "metadata": {},
   "outputs": [
    {
     "name": "stdout",
     "output_type": "stream",
     "text": [
      "Enter the radius of circle:- 8\n",
      "area of circle is:-  200.96\n"
     ]
    }
   ],
   "source": [
    "radius = int(input('Enter the radius of circle:- '))\n",
    "\n",
    "area = 3.14*radius*radius\n",
    "\n",
    "print('area of circle is:- ',area)"
   ]
  },
  {
   "cell_type": "markdown",
   "id": "60bb9737",
   "metadata": {},
   "source": [
    "### Q9) Write a program to calculate net salary of an employee whose basic salary is entered by the user,DA is 5% of basic salary , HRA is 7% of basic salary and PF is 3% of Basic Salary."
   ]
  },
  {
   "cell_type": "code",
   "execution_count": 10,
   "id": "5f509bae",
   "metadata": {},
   "outputs": [
    {
     "name": "stdout",
     "output_type": "stream",
     "text": [
      "Enter the basic salary:- 20000\n",
      "DA :-  1000.0\n",
      "HRA :-  1400.0000000000002\n",
      "PF :-  600.0\n",
      "Net salary is:- 21800.0\n"
     ]
    }
   ],
   "source": [
    "basic_salary = float(input('Enter the basic salary:- '))\n",
    "DA = .05*basic_salary\n",
    "HRA = .07*basic_salary\n",
    "PF = .03*basic_salary\n",
    "\n",
    "net_salary = (basic_salary+DA+HRA)-PF\n",
    "\n",
    "print('DA :- ',DA)\n",
    "print('HRA :- ',HRA)\n",
    "print('PF :- ',PF)\n",
    "\n",
    "print('Net salary is:-',net_salary)"
   ]
  },
  {
   "cell_type": "markdown",
   "id": "8978e3ce",
   "metadata": {},
   "source": [
    "### 10. Write a program to calculate power of a number."
   ]
  },
  {
   "cell_type": "code",
   "execution_count": 8,
   "id": "eb2aad69",
   "metadata": {},
   "outputs": [
    {
     "name": "stdout",
     "output_type": "stream",
     "text": [
      "Enter the base:- 5\n",
      "Enter the exponent:- 4\n",
      "The power of number is :-  625\n"
     ]
    }
   ],
   "source": [
    "base = int(input('Enter the base:- '))\n",
    "exponent = int(input('Enter the exponent:- '))\n",
    "\n",
    "power = base**exponent\n",
    "\n",
    "print('The power of number is :- ',power)"
   ]
  },
  {
   "cell_type": "markdown",
   "id": "d735b0c2",
   "metadata": {},
   "source": [
    "### Q.11) Write a program to get the Python version you are using."
   ]
  },
  {
   "cell_type": "code",
   "execution_count": 24,
   "id": "4b19cf52",
   "metadata": {},
   "outputs": [
    {
     "name": "stdout",
     "output_type": "stream",
     "text": [
      "python version\n",
      "3.9.13 (main, Aug 25 2022, 23:51:50) [MSC v.1916 64 bit (AMD64)]\n"
     ]
    }
   ],
   "source": [
    "import sys\n",
    "print('python version')\n",
    "print(sys.version)"
   ]
  }
 ],
 "metadata": {
  "kernelspec": {
   "display_name": "Python 3 (ipykernel)",
   "language": "python",
   "name": "python3"
  },
  "language_info": {
   "codemirror_mode": {
    "name": "ipython",
    "version": 3
   },
   "file_extension": ".py",
   "mimetype": "text/x-python",
   "name": "python",
   "nbconvert_exporter": "python",
   "pygments_lexer": "ipython3",
   "version": "3.9.13"
  }
 },
 "nbformat": 4,
 "nbformat_minor": 5
}
