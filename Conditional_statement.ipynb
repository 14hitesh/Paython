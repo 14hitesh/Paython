{
 "cells": [
  {
   "cell_type": "markdown",
   "id": "f5b5340e",
   "metadata": {},
   "source": [
    "### Q1 Given number is even or odd"
   ]
  },
  {
   "cell_type": "code",
   "execution_count": 7,
   "id": "f78ba2e8",
   "metadata": {},
   "outputs": [
    {
     "name": "stdout",
     "output_type": "stream",
     "text": [
      "Enter Your Number :- 4\n",
      "This no. is Even\n"
     ]
    }
   ],
   "source": [
    "num  = int(input(\"Enter Your Number :- \"))\n",
    "if num % 2 == 0:\n",
    "    print(\"This no. is Even\")\n",
    "else:\n",
    "    print(\"This no. is Odd\")"
   ]
  },
  {
   "cell_type": "markdown",
   "id": "b848a151",
   "metadata": {},
   "source": [
    "### Q2. Alphabet is a vowel or consonant"
   ]
  },
  {
   "cell_type": "code",
   "execution_count": 5,
   "id": "f33043bf",
   "metadata": {},
   "outputs": [
    {
     "name": "stdout",
     "output_type": "stream",
     "text": [
      "Enter Alphabate.A\n",
      "Given alphabate is vowel\n"
     ]
    }
   ],
   "source": [
    "alp = input(\"Enter Alphabate.\")\n",
    "vowel = ('a','e','i','o','u','A','E','I','O','U')\n",
    "if alp in vowel:\n",
    "    print(\"Given alphabate is vowel\")\n",
    "else:\n",
    "    print(\"Given alphabates is constant\")"
   ]
  },
  {
   "cell_type": "markdown",
   "id": "1e6fc829",
   "metadata": {},
   "source": [
    "#### Q3. Person is eligible to vote or not"
   ]
  },
  {
   "cell_type": "code",
   "execution_count": 9,
   "id": "f9ffc224",
   "metadata": {},
   "outputs": [
    {
     "name": "stdout",
     "output_type": "stream",
     "text": [
      "Enter the age18\n",
      "Yes your are Eligible for voting\n",
      "Thank you for your input\n"
     ]
    }
   ],
   "source": [
    "age = int(input(\"Enter the age\"))\n",
    "if age >= 18:\n",
    "    print(\"Yes your are Eligible for voting\")\n",
    "else:\n",
    "    print(\"Sorry you are not eligible for Voting\")\n",
    "print(\"Thank you for your input\")    "
   ]
  },
  {
   "cell_type": "markdown",
   "id": "59207ac1",
   "metadata": {},
   "source": [
    "### Q4. Given number is positive,negative or zero"
   ]
  },
  {
   "cell_type": "code",
   "execution_count": 22,
   "id": "a40a0464",
   "metadata": {},
   "outputs": [
    {
     "name": "stdout",
     "output_type": "stream",
     "text": [
      "Enter your no.4\n",
      "This no. is positive \n"
     ]
    }
   ],
   "source": [
    "num = int(input(\"Enter your no.\"))\n",
    "if num > 0:\n",
    "    print(\"This no. is positive \")\n",
    "elif num == 0:\n",
    "    print(\"This no. is zero\")\n",
    "else:\n",
    "    print(\"This no. is negative\")"
   ]
  },
  {
   "cell_type": "markdown",
   "id": "1f0b079a",
   "metadata": {},
   "source": [
    "### Q5. Given year is leap year or not"
   ]
  },
  {
   "cell_type": "code",
   "execution_count": 35,
   "id": "6c861fd2",
   "metadata": {},
   "outputs": [
    {
     "name": "stdout",
     "output_type": "stream",
     "text": [
      "Enter leap year: 2016\n",
      "This is Leap year\n"
     ]
    }
   ],
   "source": [
    "year = int (input(\"Enter leap year: \"))\n",
    "\n",
    "if (year % 400 ==0) or (year % 4 ==0) and (year % 100 != 0):\n",
    "    \n",
    "    print(\"This is Leap year\")\n",
    "    \n",
    "else:\n",
    "    print(\"This is not leap year\")"
   ]
  },
  {
   "cell_type": "markdown",
   "id": "bc362434",
   "metadata": {},
   "source": [
    "### Q6. Triangle is eqilateral, isosceles or scalens."
   ]
  },
  {
   "cell_type": "code",
   "execution_count": 41,
   "id": "169f408f",
   "metadata": {},
   "outputs": [
    {
     "name": "stdout",
     "output_type": "stream",
     "text": [
      "a:20\n",
      "b:30\n",
      "c:40\n",
      "This is scalens trangle\n"
     ]
    }
   ],
   "source": [
    "a = int(input(\"a:\"))\n",
    "b = int(input(\"b:\"))\n",
    "c = int(input(\"c:\"))\n",
    "\n",
    "if a == b == c:\n",
    "    print(\"This is Eqilateral tringle\")\n",
    "elif a==b or b==c or c==a:\n",
    "    print(\"This is Isosceles tringle\")\n",
    "else:\n",
    "    print(\"This is scalens trangle\")"
   ]
  },
  {
   "cell_type": "markdown",
   "id": "c16e32c5",
   "metadata": {},
   "source": [
    "#### Q7.To check whether after selling a product its profit or loss."
   ]
  },
  {
   "cell_type": "code",
   "execution_count": 46,
   "id": "293dac75",
   "metadata": {},
   "outputs": [
    {
     "name": "stdout",
     "output_type": "stream",
     "text": [
      "Enter Your Cost Price:50000\n",
      "Enter Your Selling Price:20000\n",
      "Sorry, you incorred a loss\n"
     ]
    }
   ],
   "source": [
    "cost_price = int(input(\"Enter Your Cost Price:\"))\n",
    "selling_price =  int(input(\"Enter Your Selling Price:\"))\n",
    "Profit = selling_price-cost_price\n",
    "loss = cost_price-selling_price\n",
    "\n",
    "if selling_price > cost_price:\n",
    "    print(\"congratulation you made a profit\")\n",
    "elif selling_price< cost_price:\n",
    "    print(\"Sorry, you incorred a loss\")\n",
    "else:\n",
    "    print(\"You have no profit or not loss\")"
   ]
  },
  {
   "cell_type": "markdown",
   "id": "563211d3",
   "metadata": {},
   "source": [
    "#### Q8.Write a program to enter two numbers and print the greatest number."
   ]
  },
  {
   "cell_type": "code",
   "execution_count": 4,
   "id": "67066307",
   "metadata": {},
   "outputs": [
    {
     "name": "stdout",
     "output_type": "stream",
     "text": [
      "Enter your first number10\n",
      "Enter Your Second Numner10\n",
      " Two no. are same\n"
     ]
    }
   ],
   "source": [
    "num1 = int(input(\"Enter your first number\"))\n",
    "num2 = int(input(\"Enter Your Second Numner\"))\n",
    "if num1 > num2:\n",
    "    print(\"First no. is Gratest No.\")\n",
    "elif num2 > num1:\n",
    "    print(\"Second no is gratest no.\")\n",
    "else:\n",
    "    print(\" Two no. are same\")"
   ]
  },
  {
   "cell_type": "markdown",
   "id": "c1d8e16f",
   "metadata": {},
   "source": [
    "#### Q.9 Write a program to enter two numbers and print the smallest number."
   ]
  },
  {
   "cell_type": "code",
   "execution_count": 12,
   "id": "2c6b82c1",
   "metadata": {},
   "outputs": [
    {
     "name": "stdout",
     "output_type": "stream",
     "text": [
      "Enter your first number70\n",
      "Enter Your Second Numner20\n",
      "Second no is lowest no.\n"
     ]
    }
   ],
   "source": [
    "num1 = int(input(\"Enter your first number\"))\n",
    "num2 = int(input(\"Enter Your Second Numner\"))\n",
    "if num1 < num2:\n",
    "    print(\"First no. is lowest No.\")\n",
    "else:\n",
    "    print(\"Second no is lowest no.\")"
   ]
  },
  {
   "cell_type": "markdown",
   "id": "e24302fc",
   "metadata": {},
   "source": [
    "#### Q10. Write a program to enter three numbers and print the greatest number."
   ]
  },
  {
   "cell_type": "code",
   "execution_count": 30,
   "id": "8caaeb63",
   "metadata": {},
   "outputs": [
    {
     "name": "stdout",
     "output_type": "stream",
     "text": [
      "Enter First number8\n",
      "Enter First number3\n",
      "Enter First number5\n",
      "First no. is gretest no.\n"
     ]
    }
   ],
   "source": [
    "num1 = int(input(\"Enter First number\"))\n",
    "num2 = int(input(\"Enter First number\"))\n",
    "num3 = int(input(\"Enter First number\"))\n",
    "\n",
    "if (num1 > num2) and (num1 > num3):\n",
    "    print(\"First no. is gretest no.\")\n",
    "elif (num2 > num1) and (num2 > num3):\n",
    "    print(\"Second no. is gretest no.\")\n",
    "elif (num3 > num1) and (num3 > num2):\n",
    "    print(\"Third no. is gretest no.\")\n",
    "else:\n",
    "    print(\"all No. are equal\")"
   ]
  },
  {
   "cell_type": "markdown",
   "id": "7fc74de7",
   "metadata": {},
   "source": [
    " ### Q11. Write a program to enter three numbers and print the smallest number."
   ]
  },
  {
   "cell_type": "code",
   "execution_count": 34,
   "id": "91824a0a",
   "metadata": {},
   "outputs": [
    {
     "name": "stdout",
     "output_type": "stream",
     "text": [
      "Enter First number1\n",
      "Enter First number3\n",
      "Enter First number4\n",
      "First no. is Lowest no.\n"
     ]
    }
   ],
   "source": [
    "num1 = int(input(\"Enter First number\"))\n",
    "num2 = int(input(\"Enter First number\"))\n",
    "num3 = int(input(\"Enter First number\"))\n",
    "\n",
    "if (num1 < num2) and (num1 < num3):\n",
    "    print(\"First no. is Lowest no.\")\n",
    "elif (num2 < num1) and (num2 < num3):\n",
    "    print(\"Second no. is Lowest no.\")\n",
    "elif (num3 < num1) and (num3 < num2):\n",
    "    print(\"Third no. is Lowest no.\")\n",
    "else:\n",
    "    print(\"all No. are equal\")"
   ]
  },
  {
   "cell_type": "markdown",
   "id": "31ecd4a0",
   "metadata": {},
   "source": [
    "#### Q12. Write a program to calculate roots of quadratic equation.."
   ]
  },
  {
   "cell_type": "code",
   "execution_count": null,
   "id": "dfba36c9",
   "metadata": {},
   "outputs": [],
   "source": []
  },
  {
   "cell_type": "code",
   "execution_count": null,
   "id": "115d68b5",
   "metadata": {},
   "outputs": [],
   "source": []
  },
  {
   "cell_type": "markdown",
   "id": "ca346910",
   "metadata": {},
   "source": [
    "## Q13. Write a program to enter a number between (1-7) and print the respective day of the week."
   ]
  },
  {
   "cell_type": "code",
   "execution_count": 16,
   "id": "c5aa011c",
   "metadata": {},
   "outputs": [
    {
     "name": "stdout",
     "output_type": "stream",
     "text": [
      "Enter Weekday day 1-7:3\n",
      "Wednesday\n"
     ]
    }
   ],
   "source": [
    "week_day = int(input(\"Enter Weekday day 1-7:\"))\n",
    "if week_day == 1:\n",
    "    print(\"Monday\")\n",
    "elif week_day == 2:\n",
    "    print(\"Tuesday\")\n",
    "elif week_day == 3:\n",
    "    print(\"Wednesday\")\n",
    "elif week_day == 4:\n",
    "    print(\"Thursday\")\n",
    "elif week_day == 5:\n",
    "    print(\"Friday\")\n",
    "elif week_day == 6:\n",
    "    print(\"Saturday\")\n",
    "elif week_day == 7:\n",
    "    print(\"Sunday\")\n",
    "else:\n",
    "    print(\"Enter Weekday day betwwn 1-7 \")"
   ]
  },
  {
   "cell_type": "markdown",
   "id": "0051d6be",
   "metadata": {},
   "source": [
    "#### Q14. Write a program to enter number between (1-12) and print respective month."
   ]
  },
  {
   "cell_type": "code",
   "execution_count": 23,
   "id": "2d7f94bf",
   "metadata": {},
   "outputs": [
    {
     "name": "stdout",
     "output_type": "stream",
     "text": [
      "Enter Number 1-12: 5\n",
      "May\n"
     ]
    }
   ],
   "source": [
    "month = int(input(\"Enter Number 1-12: \"))\n",
    "if (month==1):\n",
    "    print(\"Jan\")\n",
    "    \n",
    "elif (month==2):\n",
    "    print(\"Feb\")\n",
    "    \n",
    "elif (month==3):\n",
    "    print(\"Mar\")\n",
    "    \n",
    "elif (month==4):\n",
    "    print(\"Apr\")\n",
    "    \n",
    "elif (month==5):\n",
    "    print(\"May\")\n",
    "    \n",
    "elif (month==6):\n",
    "    print(\"June\")\n",
    "    \n",
    "elif (month==7):\n",
    "    print(\"Jully\")\n",
    "    \n",
    "elif (month==8):\n",
    "    print(\"Aug\")\n",
    "    \n",
    "elif (month==9):\n",
    "    print(\"Sep\")\n",
    "    \n",
    "elif (month==10):\n",
    "    print(\"Oct\")\n",
    "    \n",
    "elif (month==11):\n",
    "    print(\"Nov\")\n",
    "    \n",
    "elif (month==12):\n",
    "    print(\"dec\")\n",
    "else:\n",
    "    print(\"Enter valid Month\")    \n",
    "    "
   ]
  },
  {
   "cell_type": "markdown",
   "id": "ca85c07a",
   "metadata": {},
   "source": [
    "# Q 15. Write a program to enter a number between (1 – 4) and perform the following functions.\n",
    "1.Addition\n",
    "2.Subtraction\n",
    "3.Multiplication\n",
    "4.Division"
   ]
  },
  {
   "cell_type": "code",
   "execution_count": 6,
   "id": "c9b54616",
   "metadata": {},
   "outputs": [
    {
     "name": "stdout",
     "output_type": "stream",
     "text": [
      "Enter the which function you perform :4\n",
      "Enter the a value:8\n",
      "Enter the b value:4\n",
      "This is Division value: 2.0\n"
     ]
    }
   ],
   "source": [
    "num = int(input(\"Enter the which function you perform :\"))\n",
    "a = int(input(\"Enter the a value:\"))\n",
    "b = int(input(\"Enter the b value:\"))\n",
    "\n",
    "if num == 1:\n",
    "    add = a+b\n",
    "    print(\"This is addition value:\",add)\n",
    "    \n",
    "elif num==2:\n",
    "    sub = a-b\n",
    "    print(\"This is substraction value:\",sub)\n",
    "    \n",
    "elif num==3:\n",
    "    mul = a*b\n",
    "    print(\"This is Multiplication value:\",mul)\n",
    "    \n",
    "elif num ==4:\n",
    "    div = a/b\n",
    "    print(\"This is Division value:\",div)\n",
    "    \n",
    "else:\n",
    "    print(\"Please Check number\") "
   ]
  },
  {
   "cell_type": "markdown",
   "id": "5b1d3949",
   "metadata": {},
   "source": [
    "# Q 16. Write a program to convert  Temperature from Celsius to Fahrenheit."
   ]
  },
  {
   "cell_type": "code",
   "execution_count": 3,
   "id": "53280e58",
   "metadata": {},
   "outputs": [
    {
     "name": "stdout",
     "output_type": "stream",
     "text": [
      "Enter the temperature:- 30.55\n",
      "Enter the unit of temperature:- c\n",
      "Temperature in fahrenheit is 86.99000000000001 F\n"
     ]
    }
   ],
   "source": [
    "temp = float(input('Enter the temperature:- '))\n",
    "unit = input('Enter the unit of temperature:- ')\n",
    "if unit == \"C\" or unit == \"c\":\n",
    "    far = (temp * 1.8) + 32\n",
    "    print(f'Temperature in fahrenheit is {far} F')\n",
    "elif unit == \"F\" or unit == \"f\":\n",
    "    cel = (temp - 32) / 1.8\n",
    "    print(f'Temperature in fahrenheit is {cel} C')\n",
    "else:\n",
    "    print('please check the entered details')"
   ]
  },
  {
   "cell_type": "markdown",
   "id": "56daca06",
   "metadata": {},
   "source": [
    "# Q 17. A company decides to give bonus of 5% to employee if his/her year of service is more than 5 years. Ask user for their salary and year of service and print the net bonus amount."
   ]
  },
  {
   "cell_type": "code",
   "execution_count": 8,
   "id": "b1b1c915",
   "metadata": {},
   "outputs": [
    {
     "name": "stdout",
     "output_type": "stream",
     "text": [
      "Enter the year of service:6\n",
      "Enter the Salery:18000\n",
      "Congratulations you got bonus of  900.0\n"
     ]
    }
   ],
   "source": [
    "year_of_service = float(input(\"Enter the year of service:\"))\n",
    "Salary = float(input(\"Enter the Salery:\"))\n",
    "\n",
    "if year_of_service >= 5:\n",
    "    bonus= salary * 0.05\n",
    "    print('Congratulations you got bonus of ',bonus)\n",
    "          \n",
    "else:\n",
    "    print('Sorry you are not eligible for bonus')    \n"
   ]
  },
  {
   "cell_type": "markdown",
   "id": "7b24f9de",
   "metadata": {},
   "source": [
    "# Q 18. Write a program to take input of length and breadth of a rectangle from user and check if it is square or not."
   ]
  },
  {
   "cell_type": "code",
   "execution_count": 10,
   "id": "1090af96",
   "metadata": {},
   "outputs": [
    {
     "name": "stdout",
     "output_type": "stream",
     "text": [
      "Enter the value of length:- 20\n",
      "Enter the valur of breadth:- 20\n",
      "Rectangle is square\n"
     ]
    }
   ],
   "source": [
    "length = int(input('Enter the value of length:- '))\n",
    "breadth = int(input('Enter the valur of breadth:- '))\n",
    "\n",
    "if length == breadth:\n",
    "    print(\"Rectangle is square\")\n",
    "else:\n",
    "     print(\"Rectangle is not square\")"
   ]
  },
  {
   "cell_type": "markdown",
   "id": "6c5d093a",
   "metadata": {},
   "source": [
    "## Q 19. Take input of age of 3 people from user and determine oldest and youngest among them"
   ]
  },
  {
   "cell_type": "code",
   "execution_count": 11,
   "id": "77b7e9b0",
   "metadata": {},
   "outputs": [
    {
     "name": "stdout",
     "output_type": "stream",
     "text": [
      "Enter age of first person: 45\n",
      "Enter age of second person: 70\n",
      "Enter age of third person: 33\n",
      "The oldest person is 70 years old.\n",
      "The youngest person is 33 years old.\n"
     ]
    }
   ],
   "source": [
    "age1 = int(input(\"Enter age of first person: \"))\n",
    "age2 = int(input(\"Enter age of second person: \"))\n",
    "age3 = int(input(\"Enter age of third person: \"))\n",
    "\n",
    "\n",
    "oldest = max(age1, age2, age3)\n",
    "youngest = min(age1, age2, age3)\n",
    "\n",
    "\n",
    "print(\"The oldest person is {} years old.\".format(oldest))\n",
    "print(\"The youngest person is {} years old.\".format(youngest))"
   ]
  },
  {
   "cell_type": "markdown",
   "id": "3ef25c2e",
   "metadata": {},
   "source": [
    "# Q 20. A school has following rules for grading system: a. Below 25 – F b. 25 to 45 – E c. 45 to 50 – D d. 50 to 60 – C e. 60 to 80 – B f. Above 80 – A Ask user to enter their marks and print corresponding grades."
   ]
  },
  {
   "cell_type": "code",
   "execution_count": 16,
   "id": "9bd12a34",
   "metadata": {},
   "outputs": [
    {
     "name": "stdout",
     "output_type": "stream",
     "text": [
      "Enter your marks: 30\n",
      "Your grade is E.\n"
     ]
    }
   ],
   "source": [
    "marks = float(input(\"Enter your marks: \"))\n",
    "\n",
    "\n",
    "if marks < 25:\n",
    "    grade = \"F\"\n",
    "elif marks < 45:\n",
    "    grade = \"E\"\n",
    "elif marks < 50:\n",
    "    grade = \"D\"\n",
    "elif marks < 60:\n",
    "    grade = \"C\"\n",
    "elif marks < 80:\n",
    "    grade = \"B\"\n",
    "else:\n",
    "    grade = \"A\"\n",
    "\n",
    "\n",
    "print(\"Your grade is {}.\".format(grade))"
   ]
  }
 ],
 "metadata": {
  "kernelspec": {
   "display_name": "Python 3 (ipykernel)",
   "language": "python",
   "name": "python3"
  },
  "language_info": {
   "codemirror_mode": {
    "name": "ipython",
    "version": 3
   },
   "file_extension": ".py",
   "mimetype": "text/x-python",
   "name": "python",
   "nbconvert_exporter": "python",
   "pygments_lexer": "ipython3",
   "version": "3.9.13"
  }
 },
 "nbformat": 4,
 "nbformat_minor": 5
}
